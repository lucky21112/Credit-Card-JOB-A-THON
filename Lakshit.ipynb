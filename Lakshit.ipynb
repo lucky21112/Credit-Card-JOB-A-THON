{
 "cells": [
  {
   "cell_type": "markdown",
   "metadata": {},
   "source": [
    "\n",
    "### Importing Libraries"
   ]
  },
  {
   "cell_type": "code",
   "execution_count": 273,
   "metadata": {},
   "outputs": [],
   "source": [
    "import pandas as pd\n",
    "import numpy as np\n",
    "import seaborn as sns\n",
    "import matplotlib.pyplot as plt\n",
    "import scipy.stats as stats"
   ]
  },
  {
   "cell_type": "markdown",
   "metadata": {},
   "source": [
    "### Loading Training dataset"
   ]
  },
  {
   "cell_type": "code",
   "execution_count": 274,
   "metadata": {},
   "outputs": [],
   "source": [
    "df=pd.read_csv('train.csv')"
   ]
  },
  {
   "cell_type": "markdown",
   "metadata": {},
   "source": [
    "### Checking Dataset"
   ]
  },
  {
   "cell_type": "code",
   "execution_count": 275,
   "metadata": {},
   "outputs": [
    {
     "data": {
      "text/html": [
       "<div>\n",
       "<style scoped>\n",
       "    .dataframe tbody tr th:only-of-type {\n",
       "        vertical-align: middle;\n",
       "    }\n",
       "\n",
       "    .dataframe tbody tr th {\n",
       "        vertical-align: top;\n",
       "    }\n",
       "\n",
       "    .dataframe thead th {\n",
       "        text-align: right;\n",
       "    }\n",
       "</style>\n",
       "<table border=\"1\" class=\"dataframe\">\n",
       "  <thead>\n",
       "    <tr style=\"text-align: right;\">\n",
       "      <th></th>\n",
       "      <th>ID</th>\n",
       "      <th>Gender</th>\n",
       "      <th>Age</th>\n",
       "      <th>Region_Code</th>\n",
       "      <th>Occupation</th>\n",
       "      <th>Channel_Code</th>\n",
       "      <th>Vintage</th>\n",
       "      <th>Credit_Product</th>\n",
       "      <th>Avg_Account_Balance</th>\n",
       "      <th>Is_Active</th>\n",
       "      <th>Is_Lead</th>\n",
       "    </tr>\n",
       "  </thead>\n",
       "  <tbody>\n",
       "    <tr>\n",
       "      <th>0</th>\n",
       "      <td>NNVBBKZB</td>\n",
       "      <td>Female</td>\n",
       "      <td>73</td>\n",
       "      <td>RG268</td>\n",
       "      <td>Other</td>\n",
       "      <td>X3</td>\n",
       "      <td>43</td>\n",
       "      <td>No</td>\n",
       "      <td>1045696</td>\n",
       "      <td>No</td>\n",
       "      <td>0</td>\n",
       "    </tr>\n",
       "    <tr>\n",
       "      <th>1</th>\n",
       "      <td>IDD62UNG</td>\n",
       "      <td>Female</td>\n",
       "      <td>30</td>\n",
       "      <td>RG277</td>\n",
       "      <td>Salaried</td>\n",
       "      <td>X1</td>\n",
       "      <td>32</td>\n",
       "      <td>No</td>\n",
       "      <td>581988</td>\n",
       "      <td>No</td>\n",
       "      <td>0</td>\n",
       "    </tr>\n",
       "    <tr>\n",
       "      <th>2</th>\n",
       "      <td>HD3DSEMC</td>\n",
       "      <td>Female</td>\n",
       "      <td>56</td>\n",
       "      <td>RG268</td>\n",
       "      <td>Self_Employed</td>\n",
       "      <td>X3</td>\n",
       "      <td>26</td>\n",
       "      <td>No</td>\n",
       "      <td>1484315</td>\n",
       "      <td>Yes</td>\n",
       "      <td>0</td>\n",
       "    </tr>\n",
       "    <tr>\n",
       "      <th>3</th>\n",
       "      <td>BF3NC7KV</td>\n",
       "      <td>Male</td>\n",
       "      <td>34</td>\n",
       "      <td>RG270</td>\n",
       "      <td>Salaried</td>\n",
       "      <td>X1</td>\n",
       "      <td>19</td>\n",
       "      <td>No</td>\n",
       "      <td>470454</td>\n",
       "      <td>No</td>\n",
       "      <td>0</td>\n",
       "    </tr>\n",
       "    <tr>\n",
       "      <th>4</th>\n",
       "      <td>TEASRWXV</td>\n",
       "      <td>Female</td>\n",
       "      <td>30</td>\n",
       "      <td>RG282</td>\n",
       "      <td>Salaried</td>\n",
       "      <td>X1</td>\n",
       "      <td>33</td>\n",
       "      <td>No</td>\n",
       "      <td>886787</td>\n",
       "      <td>No</td>\n",
       "      <td>0</td>\n",
       "    </tr>\n",
       "  </tbody>\n",
       "</table>\n",
       "</div>"
      ],
      "text/plain": [
       "         ID  Gender  Age Region_Code     Occupation Channel_Code  Vintage  \\\n",
       "0  NNVBBKZB  Female   73       RG268          Other           X3       43   \n",
       "1  IDD62UNG  Female   30       RG277       Salaried           X1       32   \n",
       "2  HD3DSEMC  Female   56       RG268  Self_Employed           X3       26   \n",
       "3  BF3NC7KV    Male   34       RG270       Salaried           X1       19   \n",
       "4  TEASRWXV  Female   30       RG282       Salaried           X1       33   \n",
       "\n",
       "  Credit_Product  Avg_Account_Balance Is_Active  Is_Lead  \n",
       "0             No              1045696        No        0  \n",
       "1             No               581988        No        0  \n",
       "2             No              1484315       Yes        0  \n",
       "3             No               470454        No        0  \n",
       "4             No               886787        No        0  "
      ]
     },
     "execution_count": 275,
     "metadata": {},
     "output_type": "execute_result"
    }
   ],
   "source": [
    "df.head()"
   ]
  },
  {
   "cell_type": "markdown",
   "metadata": {},
   "source": [
    "### Checking for Null Values"
   ]
  },
  {
   "cell_type": "code",
   "execution_count": 276,
   "metadata": {},
   "outputs": [
    {
     "data": {
      "text/plain": [
       "ID                         0\n",
       "Gender                     0\n",
       "Age                        0\n",
       "Region_Code                0\n",
       "Occupation                 0\n",
       "Channel_Code               0\n",
       "Vintage                    0\n",
       "Credit_Product         29325\n",
       "Avg_Account_Balance        0\n",
       "Is_Active                  0\n",
       "Is_Lead                    0\n",
       "dtype: int64"
      ]
     },
     "execution_count": 276,
     "metadata": {},
     "output_type": "execute_result"
    }
   ],
   "source": [
    "df.isnull().sum()"
   ]
  },
  {
   "cell_type": "markdown",
   "metadata": {},
   "source": [
    "#### We can clearly see that Credit product have null values around 29 thousand"
   ]
  },
  {
   "cell_type": "markdown",
   "metadata": {},
   "source": [
    "### Checking for distribution of Numerical values"
   ]
  },
  {
   "cell_type": "code",
   "execution_count": 277,
   "metadata": {},
   "outputs": [],
   "source": [
    "def diagnostic_plots(df, variable):\n",
    "    # function takes a dataframe (df) and\n",
    "    # the variable of interest as arguments\n",
    "\n",
    "    # define figure size\n",
    "    plt.figure(figsize=(16, 4))\n",
    "\n",
    "    # histogram\n",
    "    plt.subplot(1, 3, 1)\n",
    "    sns.histplot(df[variable], bins=30)\n",
    "    plt.title('Histogram')\n",
    "\n",
    "    # Q-Q plot\n",
    "    plt.subplot(1, 3, 2)\n",
    "    stats.probplot(df[variable], dist=\"norm\", plot=plt)\n",
    "    plt.ylabel('RM quantiles')\n",
    "\n",
    "    # boxplot\n",
    "    plt.subplot(1, 3, 3)\n",
    "    sns.boxplot(y=df[variable])\n",
    "    plt.title('Boxplot')\n",
    "\n",
    "    plt.show()"
   ]
  },
  {
   "cell_type": "code",
   "execution_count": 278,
   "metadata": {},
   "outputs": [
    {
     "data": {
      "image/png": "[encoded data removed]",
      "text/plain": [
       "<Figure size 1152x288 with 3 Axes>"
      ]
     },
     "metadata": {
      "needs_background": "light"
     },
     "output_type": "display_data"
    }
   ],
   "source": [
    "\n",
    "diagnostic_plots(df, 'Age')"
   ]
  },
  {
   "cell_type": "markdown",
   "metadata": {},
   "source": [
    "#### Since the histogram is shifted toward left hence it is skewed and the boxplot also show that it doesn't have any outliers"
   ]
  },
  {
   "cell_type": "code",
   "execution_count": 279,
   "metadata": {},
   "outputs": [
    {
     "data": {
      "image/png": "[encoded data removed]",
      "text/plain": [
       "<Figure size 1152x288 with 3 Axes>"
      ]
     },
     "metadata": {
      "needs_background": "light"
     },
     "output_type": "display_data"
    }
   ],
   "source": [
    "diagnostic_plots(df, 'Vintage')"
   ]
  },
  {
   "cell_type": "markdown",
   "metadata": {},
   "source": [
    "#### Similarly this variable is also skewed and also dont have any outliers"
   ]
  },
  {
   "cell_type": "code",
   "execution_count": 280,
   "metadata": {},
   "outputs": [
    {
     "data": {
      "image/png": "[encoded data removed]",
      "text/plain": [
       "<Figure size 1152x288 with 3 Axes>"
      ]
     },
     "metadata": {
      "needs_background": "light"
     },
     "output_type": "display_data"
    }
   ],
   "source": [
    "diagnostic_plots(df,'Avg_Account_Balance')"
   ]
  },
  {
   "cell_type": "markdown",
   "metadata": {},
   "source": [
    "#### This variable is skewed but it contain lot of outliers as we can see from boxplot."
   ]
  },
  {
   "cell_type": "markdown",
   "metadata": {},
   "source": [
    "#### Using  IQR to find outlier and handling outliers"
   ]
  },
  {
   "cell_type": "code",
   "execution_count": 281,
   "metadata": {},
   "outputs": [],
   "source": [
    "\n",
    "def skewed_boundaries(df, variable, distance):\n",
    "\n",
    "   \n",
    "    IQR = df[variable].quantile(0.75) - df[variable].quantile(0.25)\n",
    "\n",
    "    lower = df[variable].quantile(0.25) - (IQR * distance)\n",
    "    upper = df[variable].quantile(0.75) + (IQR * distance)\n",
    "\n",
    "    return upper, lower"
   ]
  },
  {
   "cell_type": "markdown",
   "metadata": {},
   "source": [
    "## For Age Variable"
   ]
  },
  {
   "cell_type": "code",
   "execution_count": 282,
   "metadata": {},
   "outputs": [
    {
     "data": {
      "text/plain": [
       "(90.0, -6.0)"
      ]
     },
     "execution_count": 282,
     "metadata": {},
     "output_type": "execute_result"
    }
   ],
   "source": [
    "upper, lower = skewed_boundaries(df, 'Age', 1.5)\n",
    "upper, lower"
   ]
  },
  {
   "cell_type": "code",
   "execution_count": 283,
   "metadata": {},
   "outputs": [
    {
     "name": "stdout",
     "output_type": "stream",
     "text": [
      "Age bigger than 90: 0\n",
      "\n",
      "% of People bigger than age 90: 0.0\n"
     ]
    }
   ],
   "source": [
    "print('Age bigger than 90: {}'.format(\n",
    "    len(df[df['Age'] > upper])))\n",
    "print()\n",
    "print('% of People bigger than age 90: {}'.format(\n",
    "    len(df[df['Age'] > upper])/len(df)))"
   ]
  },
  {
   "cell_type": "markdown",
   "metadata": {},
   "source": [
    "##### Since there are no age instance bigger than 90 hence there is no outlier while for lower boundary since it is in negative and age cant be in negative hence we are not checking for lower boundary"
   ]
  },
  {
   "cell_type": "markdown",
   "metadata": {},
   "source": [
    "## For Vintage Variable"
   ]
  },
  {
   "cell_type": "code",
   "execution_count": 284,
   "metadata": {},
   "outputs": [
    {
     "data": {
      "text/plain": [
       "(152.5, -59.5)"
      ]
     },
     "execution_count": 284,
     "metadata": {},
     "output_type": "execute_result"
    }
   ],
   "source": [
    "upper1, lower1 = skewed_boundaries(df, 'Vintage', 1.5)\n",
    "upper1, lower1"
   ]
  },
  {
   "cell_type": "code",
   "execution_count": 285,
   "metadata": {},
   "outputs": [
    {
     "name": "stdout",
     "output_type": "stream",
     "text": [
      "Vintage bigger than 152.5: 0\n",
      "\n",
      "% Vintage bigger than 32: 0.0\n"
     ]
    }
   ],
   "source": [
    "print('Vintage bigger than 152.5: {}'.format(\n",
    "    len(df[df['Vintage'] > upper1])))\n",
    "print()\n",
    "print('% Vintage bigger than 32: {}'.format(\n",
    "    len(df[df['Vintage'] > upper1])/len(df)))"
   ]
  },
  {
   "cell_type": "markdown",
   "metadata": {},
   "source": [
    "#### Since there are no instane greater than 152.5 hence there is no outliers "
   ]
  },
  {
   "cell_type": "markdown",
   "metadata": {},
   "source": [
    "## Avg_Account_Balance"
   ]
  },
  {
   "cell_type": "code",
   "execution_count": 286,
   "metadata": {},
   "outputs": [
    {
     "data": {
      "text/plain": [
       "(90.0, -6.0)"
      ]
     },
     "execution_count": 286,
     "metadata": {},
     "output_type": "execute_result"
    }
   ],
   "source": [
    "upper3, lower3 = skewed_boundaries(df, 'Avg_Account_Balance', 1.5)\n",
    "upper, lower"
   ]
  },
  {
   "cell_type": "code",
   "execution_count": 287,
   "metadata": {},
   "outputs": [
    {
     "name": "stdout",
     "output_type": "stream",
     "text": [
      "Avg_Account_Balance greater than 2510200: 14612\n",
      "\n",
      "% Avg_Account balance  greater than 2510200: 0.05946484891647166\n"
     ]
    }
   ],
   "source": [
    "print('Avg_Account_Balance greater than 2510200: {}'.format(\n",
    "    len(df[df['Avg_Account_Balance'] > upper3])))\n",
    "print()\n",
    "print('% Avg_Account balance  greater than 2510200: {}'.format(\n",
    "    len(df[df['Avg_Account_Balance'] > upper3])/len(df)))"
   ]
  },
  {
   "cell_type": "markdown",
   "metadata": {},
   "source": [
    "#### We can clearly see that around 5.9 percent of outlier were detected in this variable"
   ]
  },
  {
   "cell_type": "markdown",
   "metadata": {},
   "source": [
    "## Handling Outlier "
   ]
  },
  {
   "cell_type": "markdown",
   "metadata": {},
   "source": [
    "### We have used two methods to handle outlier :- Capping and removing outliers\n",
    "                                                 "
   ]
  },
  {
   "cell_type": "markdown",
   "metadata": {},
   "source": [
    "### Capping"
   ]
  },
  {
   "cell_type": "code",
   "execution_count": 288,
   "metadata": {},
   "outputs": [],
   "source": [
    "#df['Avg_Account_Balance']= np.where(df['Avg_Account_Balance'] > upper3, upper3,\n",
    "                       #np.where(df['Avg_Account_Balance'] < lower3, lower3, df['Avg_Account_Balance']))"
   ]
  },
  {
   "cell_type": "markdown",
   "metadata": {},
   "source": [
    "###  Removing Outliers"
   ]
  },
  {
   "cell_type": "code",
   "execution_count": 289,
   "metadata": {},
   "outputs": [],
   "source": [
    "outliers_RM = np.where(df['Avg_Account_Balance'] > upper3, True,\n",
    "                       np.where(df['Avg_Account_Balance'] < lower3, True, False))\n",
    "df= df.loc[~(outliers_RM )]"
   ]
  },
  {
   "cell_type": "markdown",
   "metadata": {},
   "source": [
    "Sincce we have used both methods for this dataset we found that in both method roc-auc score was pretty similar hence we preffer to remove outliers"
   ]
  },
  {
   "cell_type": "markdown",
   "metadata": {},
   "source": [
    "### Checking For Dependent Vairable Is_Lead"
   ]
  },
  {
   "cell_type": "code",
   "execution_count": 290,
   "metadata": {},
   "outputs": [
    {
     "data": {
      "text/plain": [
       "Text(0.5, 0, 'Class')"
      ]
     },
     "execution_count": 290,
     "metadata": {},
     "output_type": "execute_result"
    },
    {
     "data": {
      "image/png": "[encoded data removed]",
      "text/plain": [
       "<Figure size 1152x720 with 1 Axes>"
      ]
     },
     "metadata": {
      "needs_background": "light"
     },
     "output_type": "display_data"
    }
   ],
   "source": [
    "count_class = pd.value_counts(df['Is_Lead'])\n",
    "import matplotlib.pyplot as plt\n",
    "plt.figure(figsize=(16,10))\n",
    "count_class.plot(kind='bar')\n",
    "plt.ylabel('Frequency')\n",
    "plt.xlabel('Class')"
   ]
  },
  {
   "cell_type": "markdown",
   "metadata": {},
   "source": [
    "#### We can clearly see that 0 has more values than 1 hence it can be considered as imblanced dataset problem "
   ]
  },
  {
   "cell_type": "markdown",
   "metadata": {},
   "source": [
    "## Checking for correlations"
   ]
  },
  {
   "cell_type": "code",
   "execution_count": 291,
   "metadata": {},
   "outputs": [
    {
     "data": {
      "text/html": [
       "<div>\n",
       "<style scoped>\n",
       "    .dataframe tbody tr th:only-of-type {\n",
       "        vertical-align: middle;\n",
       "    }\n",
       "\n",
       "    .dataframe tbody tr th {\n",
       "        vertical-align: top;\n",
       "    }\n",
       "\n",
       "    .dataframe thead th {\n",
       "        text-align: right;\n",
       "    }\n",
       "</style>\n",
       "<table border=\"1\" class=\"dataframe\">\n",
       "  <thead>\n",
       "    <tr style=\"text-align: right;\">\n",
       "      <th></th>\n",
       "      <th>Age</th>\n",
       "      <th>Vintage</th>\n",
       "      <th>Avg_Account_Balance</th>\n",
       "      <th>Is_Lead</th>\n",
       "    </tr>\n",
       "  </thead>\n",
       "  <tbody>\n",
       "    <tr>\n",
       "      <th>Age</th>\n",
       "      <td>1.000000</td>\n",
       "      <td>0.630960</td>\n",
       "      <td>0.167747</td>\n",
       "      <td>0.233613</td>\n",
       "    </tr>\n",
       "    <tr>\n",
       "      <th>Vintage</th>\n",
       "      <td>0.630960</td>\n",
       "      <td>1.000000</td>\n",
       "      <td>0.191041</td>\n",
       "      <td>0.277626</td>\n",
       "    </tr>\n",
       "    <tr>\n",
       "      <th>Avg_Account_Balance</th>\n",
       "      <td>0.167747</td>\n",
       "      <td>0.191041</td>\n",
       "      <td>1.000000</td>\n",
       "      <td>0.074321</td>\n",
       "    </tr>\n",
       "    <tr>\n",
       "      <th>Is_Lead</th>\n",
       "      <td>0.233613</td>\n",
       "      <td>0.277626</td>\n",
       "      <td>0.074321</td>\n",
       "      <td>1.000000</td>\n",
       "    </tr>\n",
       "  </tbody>\n",
       "</table>\n",
       "</div>"
      ],
      "text/plain": [
       "                          Age   Vintage  Avg_Account_Balance   Is_Lead\n",
       "Age                  1.000000  0.630960             0.167747  0.233613\n",
       "Vintage              0.630960  1.000000             0.191041  0.277626\n",
       "Avg_Account_Balance  0.167747  0.191041             1.000000  0.074321\n",
       "Is_Lead              0.233613  0.277626             0.074321  1.000000"
      ]
     },
     "execution_count": 291,
     "metadata": {},
     "output_type": "execute_result"
    }
   ],
   "source": [
    "df.corr()"
   ]
  },
  {
   "cell_type": "markdown",
   "metadata": {},
   "source": [
    "#### We can clearly see that no variable has correlation greater than 0.7 hence correlation is not that strong"
   ]
  },
  {
   "cell_type": "markdown",
   "metadata": {},
   "source": [
    "## Checking for Categorical Variables"
   ]
  },
  {
   "cell_type": "code",
   "execution_count": 292,
   "metadata": {},
   "outputs": [
    {
     "data": {
      "text/plain": [
       "<matplotlib.axes._subplots.AxesSubplot at 0x1c16f7de710>"
      ]
     },
     "execution_count": 292,
     "metadata": {},
     "output_type": "execute_result"
    },
    {
     "data": {
      "image/png": "[encoded data removed]",
      "text/plain": [
       "<Figure size 432x288 with 1 Axes>"
      ]
     },
     "metadata": {
      "needs_background": "light"
     },
     "output_type": "display_data"
    }
   ],
   "source": [
    "df['Gender'].value_counts().plot(kind='bar')"
   ]
  },
  {
   "cell_type": "code",
   "execution_count": 293,
   "metadata": {},
   "outputs": [
    {
     "data": {
      "text/plain": [
       "<matplotlib.axes._subplots.AxesSubplot at 0x1c16e0082b0>"
      ]
     },
     "execution_count": 293,
     "metadata": {},
     "output_type": "execute_result"
    },
    {
     "data": {
      "image/png": "[encoded data removed]",
      "text/plain": [
       "<Figure size 432x288 with 1 Axes>"
      ]
     },
     "metadata": {
      "needs_background": "light"
     },
     "output_type": "display_data"
    }
   ],
   "source": [
    "df['Region_Code'].value_counts().plot(kind='bar')"
   ]
  },
  {
   "cell_type": "code",
   "execution_count": 294,
   "metadata": {},
   "outputs": [
    {
     "data": {
      "text/plain": [
       "<matplotlib.axes._subplots.AxesSubplot at 0x1c16f7cde80>"
      ]
     },
     "execution_count": 294,
     "metadata": {},
     "output_type": "execute_result"
    },
    {
     "data": {
      "image/png": "[encoded data removed]",
      "text/plain": [
       "<Figure size 432x288 with 1 Axes>"
      ]
     },
     "metadata": {
      "needs_background": "light"
     },
     "output_type": "display_data"
    }
   ],
   "source": [
    "df['Occupation'].value_counts().plot(kind='bar')"
   ]
  },
  {
   "cell_type": "code",
   "execution_count": 295,
   "metadata": {},
   "outputs": [
    {
     "data": {
      "text/plain": [
       "<matplotlib.axes._subplots.AxesSubplot at 0x1c16b7bb898>"
      ]
     },
     "execution_count": 295,
     "metadata": {},
     "output_type": "execute_result"
    },
    {
     "data": {
      "image/png": "[encoded data removed]",
      "text/plain": [
       "<Figure size 432x288 with 1 Axes>"
      ]
     },
     "metadata": {
      "needs_background": "light"
     },
     "output_type": "display_data"
    }
   ],
   "source": [
    "df['Credit_Product'].value_counts().plot(kind='bar')"
   ]
  },
  {
   "cell_type": "code",
   "execution_count": 296,
   "metadata": {},
   "outputs": [
    {
     "data": {
      "text/plain": [
       "<matplotlib.axes._subplots.AxesSubplot at 0x1c16c8c8470>"
      ]
     },
     "execution_count": 296,
     "metadata": {},
     "output_type": "execute_result"
    },
    {
     "data": {
      "image/png": "[encoded data removed]",
      "text/plain": [
       "<Figure size 432x288 with 1 Axes>"
      ]
     },
     "metadata": {
      "needs_background": "light"
     },
     "output_type": "display_data"
    }
   ],
   "source": [
    "df['Is_Active'].value_counts().plot(kind='bar')"
   ]
  },
  {
   "cell_type": "markdown",
   "metadata": {},
   "source": [
    "## Preparing Dataset"
   ]
  },
  {
   "cell_type": "markdown",
   "metadata": {},
   "source": [
    "#### First we are going to drop ID as we have unique id in whole dataset hence it is of no use to us"
   ]
  },
  {
   "cell_type": "code",
   "execution_count": 297,
   "metadata": {},
   "outputs": [],
   "source": [
    "a=df.drop(['ID'],axis=1)"
   ]
  },
  {
   "cell_type": "markdown",
   "metadata": {},
   "source": [
    "####  Handling Null values of Credit_Product"
   ]
  },
  {
   "cell_type": "code",
   "execution_count": 298,
   "metadata": {},
   "outputs": [
    {
     "data": {
      "text/plain": [
       "ID                     0.000000\n",
       "Gender                 0.000000\n",
       "Age                    0.000000\n",
       "Region_Code            0.000000\n",
       "Occupation             0.000000\n",
       "Channel_Code           0.000000\n",
       "Vintage                0.000000\n",
       "Credit_Product         0.118228\n",
       "Avg_Account_Balance    0.000000\n",
       "Is_Active              0.000000\n",
       "Is_Lead                0.000000\n",
       "dtype: float64"
      ]
     },
     "execution_count": 298,
     "metadata": {},
     "output_type": "execute_result"
    }
   ],
   "source": [
    "df.isnull().mean()"
   ]
  },
  {
   "cell_type": "markdown",
   "metadata": {},
   "source": [
    "##### We can clearly see that this % of data is missing in this variable"
   ]
  },
  {
   "cell_type": "code",
   "execution_count": 299,
   "metadata": {},
   "outputs": [
    {
     "data": {
      "text/html": [
       "<div>\n",
       "<style scoped>\n",
       "    .dataframe tbody tr th:only-of-type {\n",
       "        vertical-align: middle;\n",
       "    }\n",
       "\n",
       "    .dataframe tbody tr th {\n",
       "        vertical-align: top;\n",
       "    }\n",
       "\n",
       "    .dataframe thead th {\n",
       "        text-align: right;\n",
       "    }\n",
       "</style>\n",
       "<table border=\"1\" class=\"dataframe\">\n",
       "  <thead>\n",
       "    <tr style=\"text-align: right;\">\n",
       "      <th></th>\n",
       "      <th>Gender</th>\n",
       "      <th>Age</th>\n",
       "      <th>Region_Code</th>\n",
       "      <th>Occupation</th>\n",
       "      <th>Channel_Code</th>\n",
       "      <th>Vintage</th>\n",
       "      <th>Credit_Product</th>\n",
       "      <th>Avg_Account_Balance</th>\n",
       "      <th>Is_Active</th>\n",
       "      <th>Is_Lead</th>\n",
       "    </tr>\n",
       "  </thead>\n",
       "  <tbody>\n",
       "    <tr>\n",
       "      <th>245720</th>\n",
       "      <td>Male</td>\n",
       "      <td>51</td>\n",
       "      <td>RG284</td>\n",
       "      <td>Self_Employed</td>\n",
       "      <td>X3</td>\n",
       "      <td>109</td>\n",
       "      <td>No</td>\n",
       "      <td>1925586</td>\n",
       "      <td>No</td>\n",
       "      <td>0</td>\n",
       "    </tr>\n",
       "    <tr>\n",
       "      <th>245721</th>\n",
       "      <td>Male</td>\n",
       "      <td>27</td>\n",
       "      <td>RG268</td>\n",
       "      <td>Salaried</td>\n",
       "      <td>X1</td>\n",
       "      <td>15</td>\n",
       "      <td>No</td>\n",
       "      <td>862952</td>\n",
       "      <td>Yes</td>\n",
       "      <td>0</td>\n",
       "    </tr>\n",
       "    <tr>\n",
       "      <th>245722</th>\n",
       "      <td>Female</td>\n",
       "      <td>26</td>\n",
       "      <td>RG281</td>\n",
       "      <td>Salaried</td>\n",
       "      <td>X1</td>\n",
       "      <td>13</td>\n",
       "      <td>No</td>\n",
       "      <td>670659</td>\n",
       "      <td>No</td>\n",
       "      <td>0</td>\n",
       "    </tr>\n",
       "    <tr>\n",
       "      <th>245723</th>\n",
       "      <td>Female</td>\n",
       "      <td>28</td>\n",
       "      <td>RG273</td>\n",
       "      <td>Salaried</td>\n",
       "      <td>X1</td>\n",
       "      <td>31</td>\n",
       "      <td>No</td>\n",
       "      <td>407504</td>\n",
       "      <td>No</td>\n",
       "      <td>0</td>\n",
       "    </tr>\n",
       "    <tr>\n",
       "      <th>245724</th>\n",
       "      <td>Male</td>\n",
       "      <td>29</td>\n",
       "      <td>RG269</td>\n",
       "      <td>Salaried</td>\n",
       "      <td>X1</td>\n",
       "      <td>21</td>\n",
       "      <td>No</td>\n",
       "      <td>1129276</td>\n",
       "      <td>No</td>\n",
       "      <td>0</td>\n",
       "    </tr>\n",
       "  </tbody>\n",
       "</table>\n",
       "</div>"
      ],
      "text/plain": [
       "        Gender  Age Region_Code     Occupation Channel_Code  Vintage  \\\n",
       "245720    Male   51       RG284  Self_Employed           X3      109   \n",
       "245721    Male   27       RG268       Salaried           X1       15   \n",
       "245722  Female   26       RG281       Salaried           X1       13   \n",
       "245723  Female   28       RG273       Salaried           X1       31   \n",
       "245724    Male   29       RG269       Salaried           X1       21   \n",
       "\n",
       "       Credit_Product  Avg_Account_Balance Is_Active  Is_Lead  \n",
       "245720             No              1925586        No        0  \n",
       "245721             No               862952       Yes        0  \n",
       "245722             No               670659        No        0  \n",
       "245723             No               407504        No        0  \n",
       "245724             No              1129276        No        0  "
      ]
     },
     "execution_count": 299,
     "metadata": {},
     "output_type": "execute_result"
    }
   ],
   "source": [
    "df_most_common_imputed = a.apply(lambda x: x.fillna(x.value_counts().index[0]))\n",
    "df_most_common_imputed.tail()"
   ]
  },
  {
   "cell_type": "code",
   "execution_count": 300,
   "metadata": {},
   "outputs": [
    {
     "data": {
      "text/plain": [
       "No     163769\n",
       "Yes     67344\n",
       "Name: Credit_Product, dtype: int64"
      ]
     },
     "execution_count": 300,
     "metadata": {},
     "output_type": "execute_result"
    }
   ],
   "source": [
    "df_most_common_imputed['Credit_Product'].value_counts()"
   ]
  },
  {
   "cell_type": "code",
   "execution_count": 301,
   "metadata": {},
   "outputs": [],
   "source": [
    "b=df_most_common_imputed"
   ]
  },
  {
   "cell_type": "markdown",
   "metadata": {},
   "source": [
    "##### Defining Target and independent variables"
   ]
  },
  {
   "cell_type": "code",
   "execution_count": 302,
   "metadata": {},
   "outputs": [],
   "source": [
    "target2=b['Is_Lead']\n",
    "value2=b.drop(labels=['Is_Lead'], axis=1)\n"
   ]
  },
  {
   "cell_type": "markdown",
   "metadata": {},
   "source": [
    "##### Splitting dataset into Train and Validation set"
   ]
  },
  {
   "cell_type": "code",
   "execution_count": 303,
   "metadata": {},
   "outputs": [],
   "source": [
    "from sklearn.model_selection import train_test_split\n",
    "XTRAIN, XVAL, YTRAIN, YVAL = train_test_split(value2, target2,\n",
    "                                                    shuffle=True,\n",
    "                                                    test_size=0.1, random_state=44)"
   ]
  },
  {
   "cell_type": "code",
   "execution_count": 304,
   "metadata": {},
   "outputs": [
    {
     "data": {
      "text/html": [
       "<div>\n",
       "<style scoped>\n",
       "    .dataframe tbody tr th:only-of-type {\n",
       "        vertical-align: middle;\n",
       "    }\n",
       "\n",
       "    .dataframe tbody tr th {\n",
       "        vertical-align: top;\n",
       "    }\n",
       "\n",
       "    .dataframe thead th {\n",
       "        text-align: right;\n",
       "    }\n",
       "</style>\n",
       "<table border=\"1\" class=\"dataframe\">\n",
       "  <thead>\n",
       "    <tr style=\"text-align: right;\">\n",
       "      <th></th>\n",
       "      <th>Gender</th>\n",
       "      <th>Age</th>\n",
       "      <th>Region_Code</th>\n",
       "      <th>Occupation</th>\n",
       "      <th>Channel_Code</th>\n",
       "      <th>Vintage</th>\n",
       "      <th>Credit_Product</th>\n",
       "      <th>Avg_Account_Balance</th>\n",
       "      <th>Is_Active</th>\n",
       "    </tr>\n",
       "  </thead>\n",
       "  <tbody>\n",
       "    <tr>\n",
       "      <th>165077</th>\n",
       "      <td>Male</td>\n",
       "      <td>75</td>\n",
       "      <td>RG268</td>\n",
       "      <td>Other</td>\n",
       "      <td>X3</td>\n",
       "      <td>117</td>\n",
       "      <td>No</td>\n",
       "      <td>743506</td>\n",
       "      <td>No</td>\n",
       "    </tr>\n",
       "    <tr>\n",
       "      <th>46607</th>\n",
       "      <td>Male</td>\n",
       "      <td>50</td>\n",
       "      <td>RG284</td>\n",
       "      <td>Self_Employed</td>\n",
       "      <td>X2</td>\n",
       "      <td>98</td>\n",
       "      <td>No</td>\n",
       "      <td>1612315</td>\n",
       "      <td>No</td>\n",
       "    </tr>\n",
       "    <tr>\n",
       "      <th>34634</th>\n",
       "      <td>Female</td>\n",
       "      <td>45</td>\n",
       "      <td>RG283</td>\n",
       "      <td>Self_Employed</td>\n",
       "      <td>X2</td>\n",
       "      <td>103</td>\n",
       "      <td>No</td>\n",
       "      <td>1362340</td>\n",
       "      <td>No</td>\n",
       "    </tr>\n",
       "    <tr>\n",
       "      <th>63304</th>\n",
       "      <td>Female</td>\n",
       "      <td>27</td>\n",
       "      <td>RG262</td>\n",
       "      <td>Salaried</td>\n",
       "      <td>X1</td>\n",
       "      <td>14</td>\n",
       "      <td>No</td>\n",
       "      <td>1134242</td>\n",
       "      <td>No</td>\n",
       "    </tr>\n",
       "    <tr>\n",
       "      <th>23720</th>\n",
       "      <td>Female</td>\n",
       "      <td>29</td>\n",
       "      <td>RG260</td>\n",
       "      <td>Salaried</td>\n",
       "      <td>X1</td>\n",
       "      <td>21</td>\n",
       "      <td>No</td>\n",
       "      <td>622652</td>\n",
       "      <td>No</td>\n",
       "    </tr>\n",
       "    <tr>\n",
       "      <th>...</th>\n",
       "      <td>...</td>\n",
       "      <td>...</td>\n",
       "      <td>...</td>\n",
       "      <td>...</td>\n",
       "      <td>...</td>\n",
       "      <td>...</td>\n",
       "      <td>...</td>\n",
       "      <td>...</td>\n",
       "      <td>...</td>\n",
       "    </tr>\n",
       "    <tr>\n",
       "      <th>195873</th>\n",
       "      <td>Male</td>\n",
       "      <td>25</td>\n",
       "      <td>RG255</td>\n",
       "      <td>Salaried</td>\n",
       "      <td>X1</td>\n",
       "      <td>13</td>\n",
       "      <td>Yes</td>\n",
       "      <td>623124</td>\n",
       "      <td>No</td>\n",
       "    </tr>\n",
       "    <tr>\n",
       "      <th>52877</th>\n",
       "      <td>Male</td>\n",
       "      <td>43</td>\n",
       "      <td>RG254</td>\n",
       "      <td>Other</td>\n",
       "      <td>X2</td>\n",
       "      <td>25</td>\n",
       "      <td>No</td>\n",
       "      <td>551853</td>\n",
       "      <td>Yes</td>\n",
       "    </tr>\n",
       "    <tr>\n",
       "      <th>166881</th>\n",
       "      <td>Female</td>\n",
       "      <td>29</td>\n",
       "      <td>RG256</td>\n",
       "      <td>Salaried</td>\n",
       "      <td>X1</td>\n",
       "      <td>13</td>\n",
       "      <td>No</td>\n",
       "      <td>780975</td>\n",
       "      <td>No</td>\n",
       "    </tr>\n",
       "    <tr>\n",
       "      <th>212752</th>\n",
       "      <td>Male</td>\n",
       "      <td>48</td>\n",
       "      <td>RG277</td>\n",
       "      <td>Self_Employed</td>\n",
       "      <td>X2</td>\n",
       "      <td>86</td>\n",
       "      <td>No</td>\n",
       "      <td>566164</td>\n",
       "      <td>Yes</td>\n",
       "    </tr>\n",
       "    <tr>\n",
       "      <th>15025</th>\n",
       "      <td>Male</td>\n",
       "      <td>32</td>\n",
       "      <td>RG260</td>\n",
       "      <td>Salaried</td>\n",
       "      <td>X1</td>\n",
       "      <td>15</td>\n",
       "      <td>No</td>\n",
       "      <td>609205</td>\n",
       "      <td>No</td>\n",
       "    </tr>\n",
       "  </tbody>\n",
       "</table>\n",
       "<p>208001 rows × 9 columns</p>\n",
       "</div>"
      ],
      "text/plain": [
       "        Gender  Age Region_Code     Occupation Channel_Code  Vintage  \\\n",
       "165077    Male   75       RG268          Other           X3      117   \n",
       "46607     Male   50       RG284  Self_Employed           X2       98   \n",
       "34634   Female   45       RG283  Self_Employed           X2      103   \n",
       "63304   Female   27       RG262       Salaried           X1       14   \n",
       "23720   Female   29       RG260       Salaried           X1       21   \n",
       "...        ...  ...         ...            ...          ...      ...   \n",
       "195873    Male   25       RG255       Salaried           X1       13   \n",
       "52877     Male   43       RG254          Other           X2       25   \n",
       "166881  Female   29       RG256       Salaried           X1       13   \n",
       "212752    Male   48       RG277  Self_Employed           X2       86   \n",
       "15025     Male   32       RG260       Salaried           X1       15   \n",
       "\n",
       "       Credit_Product  Avg_Account_Balance Is_Active  \n",
       "165077             No               743506        No  \n",
       "46607              No              1612315        No  \n",
       "34634              No              1362340        No  \n",
       "63304              No              1134242        No  \n",
       "23720              No               622652        No  \n",
       "...               ...                  ...       ...  \n",
       "195873            Yes               623124        No  \n",
       "52877              No               551853       Yes  \n",
       "166881             No               780975        No  \n",
       "212752             No               566164       Yes  \n",
       "15025              No               609205        No  \n",
       "\n",
       "[208001 rows x 9 columns]"
      ]
     },
     "execution_count": 304,
     "metadata": {},
     "output_type": "execute_result"
    }
   ],
   "source": [
    "XTRAIN"
   ]
  },
  {
   "cell_type": "code",
   "execution_count": 305,
   "metadata": {},
   "outputs": [],
   "source": [
    "XTRAIN= pd.DataFrame(XTRAIN, columns = value2.columns)"
   ]
  },
  {
   "cell_type": "markdown",
   "metadata": {},
   "source": [
    "### Using One Hot Encoding for categorical variables"
   ]
  },
  {
   "cell_type": "code",
   "execution_count": 306,
   "metadata": {},
   "outputs": [],
   "source": [
    "\n",
    "from feature_engine.encoding import OneHotEncoder as fe_OneHotEncoder\n",
    "ohe_enc = fe_OneHotEncoder(\n",
    "    top_categories=None,\n",
    "    variables=['Gender','Occupation','Is_Active','Channel_Code','Region_Code','Credit_Product'],  # we can select which variables to encode\n",
    "    drop_last=True)  # to return k-1, false to return k\n",
    "\n",
    "\n",
    "ohe_enc.fit(XTRAIN)\n",
    "\n",
    "XTRAIN= ohe_enc.transform(XTRAIN)\n",
    "\n",
    "XTRAIN.head()\n",
    "\n",
    "XVAL= ohe_enc.transform(XVAL)"
   ]
  },
  {
   "cell_type": "markdown",
   "metadata": {},
   "source": [
    "#### Scaling the dataset as Avg_Account balance value is very big which can dominate whole dataset"
   ]
  },
  {
   "cell_type": "code",
   "execution_count": 307,
   "metadata": {},
   "outputs": [],
   "source": [
    "from sklearn.preprocessing import StandardScaler\n",
    "sc=StandardScaler()\n",
    "X_train_std=sc.fit_transform(XTRAIN)\n",
    "X_validation_std=sc.transform(XVAL)"
   ]
  },
  {
   "cell_type": "markdown",
   "metadata": {},
   "source": [
    "## Using Kmeans SMOTE :- Oversampling technique for balancing dataset"
   ]
  },
  {
   "cell_type": "code",
   "execution_count": 308,
   "metadata": {},
   "outputs": [],
   "source": [
    "from sklearn.cluster import KMeans\n",
    "\n",
    "from imblearn.over_sampling import KMeansSMOTE\n",
    "\n",
    "sm = KMeansSMOTE(\n",
    "    sampling_strategy='auto',  # samples only the minority class\n",
    "    random_state=0,  # for reproducibility\n",
    "    k_neighbors=2,\n",
    "    n_jobs=None,\n",
    "    kmeans_estimator=KMeans(n_clusters=3, random_state=0),\n",
    "    cluster_balance_threshold=0.1,\n",
    "    density_exponent='auto'\n",
    ")\n",
    "\n",
    "\n",
    "X_train_std, YTRAIN = sm.fit_resample(X_train_std, YTRAIN)"
   ]
  },
  {
   "cell_type": "code",
   "execution_count": 171,
   "metadata": {},
   "outputs": [],
   "source": [
    "#X_train_std= pd.DataFrame(XTRAIN, columns = value2.columns)\n",
    "#X_validation_std=pd.DataFrame(XTRAIN, columns = value2.columns)"
   ]
  },
  {
   "cell_type": "markdown",
   "metadata": {},
   "source": [
    "### USING LGBM Classifier"
   ]
  },
  {
   "cell_type": "code",
   "execution_count": 309,
   "metadata": {},
   "outputs": [],
   "source": [
    "lgb_params= {'learning_rate': 0.045, \n",
    "             'n_estimators': 20000, \n",
    "             'max_bin': 94,\n",
    "             'num_leaves': 10, \n",
    "             'max_depth': 27, \n",
    "             'reg_alpha': 8.457, \n",
    "             'reg_lambda': 6.853, \n",
    "             'subsample': 0.749}"
   ]
  },
  {
   "cell_type": "code",
   "execution_count": 310,
   "metadata": {},
   "outputs": [],
   "source": [
    "from sklearn.metrics import roc_auc_score\n",
    "from sklearn.model_selection import KFold, StratifiedKFold\n",
    "\n",
    "def cross_val(X, y, model, params, folds=9):\n",
    "\n",
    "    skf = StratifiedKFold(n_splits=folds, shuffle=True, random_state=21)\n",
    "    for fold, (train_idx, test_idx) in enumerate(skf.split(X, y)):\n",
    "        print(f\"Fold: {fold}\")\n",
    "        x_train, y_train = X.iloc[train_idx], y.iloc[train_idx]\n",
    "        x_test, y_test = X.iloc[test_idx], y.iloc[test_idx]\n",
    "\n",
    "        alg = model(**params)\n",
    "        alg.fit(x_train, y_train,\n",
    "                eval_set=[(x_test, y_test)],\n",
    "                early_stopping_rounds=100,\n",
    "                verbose=400)\n",
    "\n",
    "        pred = alg.predict_proba(x_test)[:, 1]\n",
    "        roc_score = roc_auc_score(y_test, pred)\n",
    "        print(f\"roc_auc_score: {roc_score}\")\n",
    "        print(\"-\"*50)\n",
    "    \n",
    "    return alg\n"
   ]
  },
  {
   "cell_type": "markdown",
   "metadata": {},
   "source": [
    "#### Converting X_train and Ytrain back to dataframe"
   ]
  },
  {
   "cell_type": "code",
   "execution_count": 311,
   "metadata": {},
   "outputs": [],
   "source": [
    "X_train_std=pd.DataFrame(X_train_std, columns = XTRAIN.columns)"
   ]
  },
  {
   "cell_type": "code",
   "execution_count": 312,
   "metadata": {},
   "outputs": [
    {
     "data": {
      "text/html": [
       "<div>\n",
       "<style scoped>\n",
       "    .dataframe tbody tr th:only-of-type {\n",
       "        vertical-align: middle;\n",
       "    }\n",
       "\n",
       "    .dataframe tbody tr th {\n",
       "        vertical-align: top;\n",
       "    }\n",
       "\n",
       "    .dataframe thead th {\n",
       "        text-align: right;\n",
       "    }\n",
       "</style>\n",
       "<table border=\"1\" class=\"dataframe\">\n",
       "  <thead>\n",
       "    <tr style=\"text-align: right;\">\n",
       "      <th></th>\n",
       "      <th>Age</th>\n",
       "      <th>Vintage</th>\n",
       "      <th>Avg_Account_Balance</th>\n",
       "      <th>Gender_Male</th>\n",
       "      <th>Occupation_Other</th>\n",
       "      <th>Occupation_Self_Employed</th>\n",
       "      <th>Occupation_Salaried</th>\n",
       "      <th>Is_Active_No</th>\n",
       "      <th>Channel_Code_X3</th>\n",
       "      <th>Channel_Code_X2</th>\n",
       "      <th>...</th>\n",
       "      <th>Region_Code_RG265</th>\n",
       "      <th>Region_Code_RG252</th>\n",
       "      <th>Region_Code_RG267</th>\n",
       "      <th>Region_Code_RG266</th>\n",
       "      <th>Region_Code_RG269</th>\n",
       "      <th>Region_Code_RG259</th>\n",
       "      <th>Region_Code_RG250</th>\n",
       "      <th>Region_Code_RG281</th>\n",
       "      <th>Region_Code_RG255</th>\n",
       "      <th>Credit_Product_No</th>\n",
       "    </tr>\n",
       "  </thead>\n",
       "  <tbody>\n",
       "    <tr>\n",
       "      <th>0</th>\n",
       "      <td>2.140434</td>\n",
       "      <td>2.210968</td>\n",
       "      <td>-0.451005</td>\n",
       "      <td>0.914280</td>\n",
       "      <td>1.600519</td>\n",
       "      <td>-0.836656</td>\n",
       "      <td>-0.649881</td>\n",
       "      <td>0.787951</td>\n",
       "      <td>1.631837</td>\n",
       "      <td>-0.617736</td>\n",
       "      <td>...</td>\n",
       "      <td>-0.081754</td>\n",
       "      <td>-0.137218</td>\n",
       "      <td>-0.080735</td>\n",
       "      <td>-0.082791</td>\n",
       "      <td>-0.183938</td>\n",
       "      <td>-0.106437</td>\n",
       "      <td>-0.104149</td>\n",
       "      <td>-0.149159</td>\n",
       "      <td>-0.094005</td>\n",
       "      <td>0.641271</td>\n",
       "    </tr>\n",
       "    <tr>\n",
       "      <th>1</th>\n",
       "      <td>0.438165</td>\n",
       "      <td>1.617287</td>\n",
       "      <td>1.285447</td>\n",
       "      <td>0.914280</td>\n",
       "      <td>-0.624797</td>\n",
       "      <td>1.195234</td>\n",
       "      <td>-0.649881</td>\n",
       "      <td>0.787951</td>\n",
       "      <td>-0.612806</td>\n",
       "      <td>1.618813</td>\n",
       "      <td>...</td>\n",
       "      <td>-0.081754</td>\n",
       "      <td>-0.137218</td>\n",
       "      <td>-0.080735</td>\n",
       "      <td>-0.082791</td>\n",
       "      <td>-0.183938</td>\n",
       "      <td>-0.106437</td>\n",
       "      <td>-0.104149</td>\n",
       "      <td>-0.149159</td>\n",
       "      <td>-0.094005</td>\n",
       "      <td>0.641271</td>\n",
       "    </tr>\n",
       "    <tr>\n",
       "      <th>2</th>\n",
       "      <td>0.097711</td>\n",
       "      <td>1.773519</td>\n",
       "      <td>0.785832</td>\n",
       "      <td>-1.093757</td>\n",
       "      <td>-0.624797</td>\n",
       "      <td>1.195234</td>\n",
       "      <td>-0.649881</td>\n",
       "      <td>0.787951</td>\n",
       "      <td>-0.612806</td>\n",
       "      <td>1.618813</td>\n",
       "      <td>...</td>\n",
       "      <td>-0.081754</td>\n",
       "      <td>-0.137218</td>\n",
       "      <td>-0.080735</td>\n",
       "      <td>-0.082791</td>\n",
       "      <td>-0.183938</td>\n",
       "      <td>-0.106437</td>\n",
       "      <td>-0.104149</td>\n",
       "      <td>-0.149159</td>\n",
       "      <td>-0.094005</td>\n",
       "      <td>0.641271</td>\n",
       "    </tr>\n",
       "    <tr>\n",
       "      <th>3</th>\n",
       "      <td>-1.127922</td>\n",
       "      <td>-1.007410</td>\n",
       "      <td>0.329942</td>\n",
       "      <td>-1.093757</td>\n",
       "      <td>-0.624797</td>\n",
       "      <td>-0.836656</td>\n",
       "      <td>1.538742</td>\n",
       "      <td>0.787951</td>\n",
       "      <td>-0.612806</td>\n",
       "      <td>-0.617736</td>\n",
       "      <td>...</td>\n",
       "      <td>-0.081754</td>\n",
       "      <td>-0.137218</td>\n",
       "      <td>-0.080735</td>\n",
       "      <td>-0.082791</td>\n",
       "      <td>-0.183938</td>\n",
       "      <td>-0.106437</td>\n",
       "      <td>-0.104149</td>\n",
       "      <td>-0.149159</td>\n",
       "      <td>-0.094005</td>\n",
       "      <td>0.641271</td>\n",
       "    </tr>\n",
       "    <tr>\n",
       "      <th>4</th>\n",
       "      <td>-0.991741</td>\n",
       "      <td>-0.788685</td>\n",
       "      <td>-0.692551</td>\n",
       "      <td>-1.093757</td>\n",
       "      <td>-0.624797</td>\n",
       "      <td>-0.836656</td>\n",
       "      <td>1.538742</td>\n",
       "      <td>0.787951</td>\n",
       "      <td>-0.612806</td>\n",
       "      <td>-0.617736</td>\n",
       "      <td>...</td>\n",
       "      <td>-0.081754</td>\n",
       "      <td>-0.137218</td>\n",
       "      <td>-0.080735</td>\n",
       "      <td>-0.082791</td>\n",
       "      <td>-0.183938</td>\n",
       "      <td>-0.106437</td>\n",
       "      <td>-0.104149</td>\n",
       "      <td>-0.149159</td>\n",
       "      <td>-0.094005</td>\n",
       "      <td>0.641271</td>\n",
       "    </tr>\n",
       "  </tbody>\n",
       "</table>\n",
       "<p>5 rows × 46 columns</p>\n",
       "</div>"
      ],
      "text/plain": [
       "        Age   Vintage  Avg_Account_Balance  Gender_Male  Occupation_Other  \\\n",
       "0  2.140434  2.210968            -0.451005     0.914280          1.600519   \n",
       "1  0.438165  1.617287             1.285447     0.914280         -0.624797   \n",
       "2  0.097711  1.773519             0.785832    -1.093757         -0.624797   \n",
       "3 -1.127922 -1.007410             0.329942    -1.093757         -0.624797   \n",
       "4 -0.991741 -0.788685            -0.692551    -1.093757         -0.624797   \n",
       "\n",
       "   Occupation_Self_Employed  Occupation_Salaried  Is_Active_No  \\\n",
       "0                 -0.836656            -0.649881      0.787951   \n",
       "1                  1.195234            -0.649881      0.787951   \n",
       "2                  1.195234            -0.649881      0.787951   \n",
       "3                 -0.836656             1.538742      0.787951   \n",
       "4                 -0.836656             1.538742      0.787951   \n",
       "\n",
       "   Channel_Code_X3  Channel_Code_X2  ...  Region_Code_RG265  \\\n",
       "0         1.631837        -0.617736  ...          -0.081754   \n",
       "1        -0.612806         1.618813  ...          -0.081754   \n",
       "2        -0.612806         1.618813  ...          -0.081754   \n",
       "3        -0.612806        -0.617736  ...          -0.081754   \n",
       "4        -0.612806        -0.617736  ...          -0.081754   \n",
       "\n",
       "   Region_Code_RG252  Region_Code_RG267  Region_Code_RG266  Region_Code_RG269  \\\n",
       "0          -0.137218          -0.080735          -0.082791          -0.183938   \n",
       "1          -0.137218          -0.080735          -0.082791          -0.183938   \n",
       "2          -0.137218          -0.080735          -0.082791          -0.183938   \n",
       "3          -0.137218          -0.080735          -0.082791          -0.183938   \n",
       "4          -0.137218          -0.080735          -0.082791          -0.183938   \n",
       "\n",
       "   Region_Code_RG259  Region_Code_RG250  Region_Code_RG281  Region_Code_RG255  \\\n",
       "0          -0.106437          -0.104149          -0.149159          -0.094005   \n",
       "1          -0.106437          -0.104149          -0.149159          -0.094005   \n",
       "2          -0.106437          -0.104149          -0.149159          -0.094005   \n",
       "3          -0.106437          -0.104149          -0.149159          -0.094005   \n",
       "4          -0.106437          -0.104149          -0.149159          -0.094005   \n",
       "\n",
       "   Credit_Product_No  \n",
       "0           0.641271  \n",
       "1           0.641271  \n",
       "2           0.641271  \n",
       "3           0.641271  \n",
       "4           0.641271  \n",
       "\n",
       "[5 rows x 46 columns]"
      ]
     },
     "execution_count": 312,
     "metadata": {},
     "output_type": "execute_result"
    }
   ],
   "source": [
    "X_train_std.head()"
   ]
  },
  {
   "cell_type": "code",
   "execution_count": 313,
   "metadata": {},
   "outputs": [],
   "source": [
    "YTRAIN=pd.DataFrame(YTRAIN)"
   ]
  },
  {
   "cell_type": "code",
   "execution_count": null,
   "metadata": {},
   "outputs": [
    {
     "name": "stdout",
     "output_type": "stream",
     "text": [
      "Fold: 0\n"
     ]
    },
    {
     "name": "stderr",
     "output_type": "stream",
     "text": [
      "c:\\users\\61478\\anaconda3\\lib\\site-packages\\sklearn\\utils\\validation.py:63: DataConversionWarning: A column-vector y was passed when a 1d array was expected. Please change the shape of y to (n_samples, ), for example using ravel().\n",
      "  return f(*args, **kwargs)\n"
     ]
    },
    {
     "name": "stdout",
     "output_type": "stream",
     "text": [
      "Training until validation scores don't improve for 100 rounds\n",
      "[400]\tvalid_0's binary_logloss: 0.377281\n",
      "[800]\tvalid_0's binary_logloss: 0.351271\n",
      "[1200]\tvalid_0's binary_logloss: 0.343216\n",
      "[1600]\tvalid_0's binary_logloss: 0.339079\n",
      "[2000]\tvalid_0's binary_logloss: 0.336366\n",
      "[2400]\tvalid_0's binary_logloss: 0.334358\n",
      "[2800]\tvalid_0's binary_logloss: 0.333348\n",
      "[3200]\tvalid_0's binary_logloss: 0.332313\n",
      "[3600]\tvalid_0's binary_logloss: 0.331766\n",
      "[4000]\tvalid_0's binary_logloss: 0.331171\n",
      "[4400]\tvalid_0's binary_logloss: 0.330781\n",
      "[4800]\tvalid_0's binary_logloss: 0.330435\n",
      "[5200]\tvalid_0's binary_logloss: 0.330058\n",
      "[5600]\tvalid_0's binary_logloss: 0.329848\n",
      "[6000]\tvalid_0's binary_logloss: 0.329647\n",
      "[6400]\tvalid_0's binary_logloss: 0.329491\n",
      "[6800]\tvalid_0's binary_logloss: 0.329319\n",
      "Early stopping, best iteration is:\n",
      "[7046]\tvalid_0's binary_logloss: 0.329222\n",
      "roc_auc_score: 0.9232221260243988\n",
      "--------------------------------------------------\n",
      "Fold: 1\n"
     ]
    },
    {
     "name": "stderr",
     "output_type": "stream",
     "text": [
      "c:\\users\\61478\\anaconda3\\lib\\site-packages\\sklearn\\utils\\validation.py:63: DataConversionWarning: A column-vector y was passed when a 1d array was expected. Please change the shape of y to (n_samples, ), for example using ravel().\n",
      "  return f(*args, **kwargs)\n"
     ]
    },
    {
     "name": "stdout",
     "output_type": "stream",
     "text": [
      "Training until validation scores don't improve for 100 rounds\n",
      "[400]\tvalid_0's binary_logloss: 0.384509\n",
      "[800]\tvalid_0's binary_logloss: 0.358945\n",
      "[1200]\tvalid_0's binary_logloss: 0.35013\n",
      "[1600]\tvalid_0's binary_logloss: 0.346178\n",
      "[2000]\tvalid_0's binary_logloss: 0.343314\n",
      "[2400]\tvalid_0's binary_logloss: 0.341501\n",
      "[2800]\tvalid_0's binary_logloss: 0.340299\n",
      "[3200]\tvalid_0's binary_logloss: 0.339206\n",
      "[3600]\tvalid_0's binary_logloss: 0.338446\n",
      "[4000]\tvalid_0's binary_logloss: 0.337932\n",
      "[4400]\tvalid_0's binary_logloss: 0.337356\n",
      "[4800]\tvalid_0's binary_logloss: 0.33688\n",
      "[5200]\tvalid_0's binary_logloss: 0.336582\n",
      "[5600]\tvalid_0's binary_logloss: 0.336258\n",
      "[6000]\tvalid_0's binary_logloss: 0.336107\n",
      "[6400]\tvalid_0's binary_logloss: 0.335946\n",
      "[6800]\tvalid_0's binary_logloss: 0.335733\n",
      "[7200]\tvalid_0's binary_logloss: 0.335494\n",
      "[7600]\tvalid_0's binary_logloss: 0.335392\n",
      "Early stopping, best iteration is:\n",
      "[7748]\tvalid_0's binary_logloss: 0.335348\n",
      "roc_auc_score: 0.92024951675871\n",
      "--------------------------------------------------\n",
      "Fold: 2\n"
     ]
    },
    {
     "name": "stderr",
     "output_type": "stream",
     "text": [
      "c:\\users\\61478\\anaconda3\\lib\\site-packages\\sklearn\\utils\\validation.py:63: DataConversionWarning: A column-vector y was passed when a 1d array was expected. Please change the shape of y to (n_samples, ), for example using ravel().\n",
      "  return f(*args, **kwargs)\n"
     ]
    },
    {
     "name": "stdout",
     "output_type": "stream",
     "text": [
      "Training until validation scores don't improve for 100 rounds\n",
      "[400]\tvalid_0's binary_logloss: 0.376872\n",
      "[800]\tvalid_0's binary_logloss: 0.353505\n",
      "[1200]\tvalid_0's binary_logloss: 0.345468\n",
      "[1600]\tvalid_0's binary_logloss: 0.341479\n",
      "[2000]\tvalid_0's binary_logloss: 0.338533\n",
      "[2400]\tvalid_0's binary_logloss: 0.336807\n",
      "[2800]\tvalid_0's binary_logloss: 0.335597\n",
      "[3200]\tvalid_0's binary_logloss: 0.334619\n",
      "[3600]\tvalid_0's binary_logloss: 0.333977\n",
      "[4000]\tvalid_0's binary_logloss: 0.333353\n",
      "[4400]\tvalid_0's binary_logloss: 0.33287\n",
      "[4800]\tvalid_0's binary_logloss: 0.332488\n",
      "[5200]\tvalid_0's binary_logloss: 0.332075\n",
      "[5600]\tvalid_0's binary_logloss: 0.331685\n",
      "[6000]\tvalid_0's binary_logloss: 0.331544\n",
      "[6400]\tvalid_0's binary_logloss: 0.331398\n",
      "[6800]\tvalid_0's binary_logloss: 0.331207\n",
      "[7200]\tvalid_0's binary_logloss: 0.331034\n",
      "[7600]\tvalid_0's binary_logloss: 0.330933\n",
      "Early stopping, best iteration is:\n",
      "[7508]\tvalid_0's binary_logloss: 0.330927\n",
      "roc_auc_score: 0.9220881063949802\n",
      "--------------------------------------------------\n",
      "Fold: 3\n"
     ]
    },
    {
     "name": "stderr",
     "output_type": "stream",
     "text": [
      "c:\\users\\61478\\anaconda3\\lib\\site-packages\\sklearn\\utils\\validation.py:63: DataConversionWarning: A column-vector y was passed when a 1d array was expected. Please change the shape of y to (n_samples, ), for example using ravel().\n",
      "  return f(*args, **kwargs)\n"
     ]
    },
    {
     "name": "stdout",
     "output_type": "stream",
     "text": [
      "Training until validation scores don't improve for 100 rounds\n",
      "[400]\tvalid_0's binary_logloss: 0.379283\n",
      "[800]\tvalid_0's binary_logloss: 0.353753\n",
      "[1200]\tvalid_0's binary_logloss: 0.345258\n",
      "[1600]\tvalid_0's binary_logloss: 0.341293\n",
      "[2000]\tvalid_0's binary_logloss: 0.33856\n",
      "[2400]\tvalid_0's binary_logloss: 0.336735\n",
      "[2800]\tvalid_0's binary_logloss: 0.335581\n",
      "[3200]\tvalid_0's binary_logloss: 0.334609\n",
      "[3600]\tvalid_0's binary_logloss: 0.333878\n",
      "[4000]\tvalid_0's binary_logloss: 0.333303\n",
      "[4400]\tvalid_0's binary_logloss: 0.332772\n",
      "[4800]\tvalid_0's binary_logloss: 0.332356\n",
      "[5200]\tvalid_0's binary_logloss: 0.332113\n",
      "[5600]\tvalid_0's binary_logloss: 0.331847\n",
      "[6000]\tvalid_0's binary_logloss: 0.331533\n",
      "[6400]\tvalid_0's binary_logloss: 0.331207\n",
      "[6800]\tvalid_0's binary_logloss: 0.330921\n",
      "[7200]\tvalid_0's binary_logloss: 0.330792\n",
      "[7600]\tvalid_0's binary_logloss: 0.330636\n",
      "[8000]\tvalid_0's binary_logloss: 0.330532\n",
      "[8400]\tvalid_0's binary_logloss: 0.330442\n",
      "Early stopping, best iteration is:\n",
      "[8393]\tvalid_0's binary_logloss: 0.330439\n",
      "roc_auc_score: 0.921925838087634\n",
      "--------------------------------------------------\n",
      "Fold: 4\n"
     ]
    },
    {
     "name": "stderr",
     "output_type": "stream",
     "text": [
      "c:\\users\\61478\\anaconda3\\lib\\site-packages\\sklearn\\utils\\validation.py:63: DataConversionWarning: A column-vector y was passed when a 1d array was expected. Please change the shape of y to (n_samples, ), for example using ravel().\n",
      "  return f(*args, **kwargs)\n"
     ]
    },
    {
     "name": "stdout",
     "output_type": "stream",
     "text": [
      "Training until validation scores don't improve for 100 rounds\n"
     ]
    }
   ],
   "source": [
    "from lightgbm import LGBMClassifier\n",
    "lgb_model = cross_val(X_train_std, YTRAIN, LGBMClassifier, lgb_params)"
   ]
  },
  {
   "cell_type": "markdown",
   "metadata": {},
   "source": [
    "#### Predicting Probabilities"
   ]
  },
  {
   "cell_type": "code",
   "execution_count": 60,
   "metadata": {},
   "outputs": [],
   "source": [
    "pred_test_lgb = lgb_model.predict_proba(X_validation_std)"
   ]
  },
  {
   "cell_type": "code",
   "execution_count": 61,
   "metadata": {},
   "outputs": [
    {
     "data": {
      "text/plain": [
       "array([[0.62495806, 0.37504194],\n",
       "       [0.95895988, 0.04104012],\n",
       "       [0.93881198, 0.06118802],\n",
       "       ...,\n",
       "       [0.7632041 , 0.2367959 ],\n",
       "       [0.57827666, 0.42172334],\n",
       "       [0.00346567, 0.99653433]])"
      ]
     },
     "execution_count": 61,
     "metadata": {},
     "output_type": "execute_result"
    }
   ],
   "source": [
    "pred_test_lgb"
   ]
  },
  {
   "cell_type": "markdown",
   "metadata": {},
   "source": [
    "### Roc-AUC score "
   ]
  },
  {
   "cell_type": "code",
   "execution_count": 62,
   "metadata": {},
   "outputs": [],
   "source": [
    "pred_test_lgb = lgb_model.predict(X_validation_std)"
   ]
  },
  {
   "cell_type": "code",
   "execution_count": 63,
   "metadata": {},
   "outputs": [
    {
     "data": {
      "text/plain": [
       "0.6873801509798418"
      ]
     },
     "execution_count": 63,
     "metadata": {},
     "output_type": "execute_result"
    }
   ],
   "source": [
    "from sklearn.metrics import roc_auc_score, roc_curve\n",
    "roc_auc_score(pred_test_lgb,YVAL)"
   ]
  },
  {
   "cell_type": "code",
   "execution_count": null,
   "metadata": {},
   "outputs": [],
   "source": []
  },
  {
   "cell_type": "markdown",
   "metadata": {},
   "source": [
    "### Loading Test dataset"
   ]
  },
  {
   "cell_type": "code",
   "execution_count": 64,
   "metadata": {},
   "outputs": [],
   "source": [
    "z=pd.read_csv('test.csv')"
   ]
  },
  {
   "cell_type": "code",
   "execution_count": 65,
   "metadata": {},
   "outputs": [],
   "source": [
    "z_id=z.iloc[:,0]"
   ]
  },
  {
   "cell_type": "markdown",
   "metadata": {},
   "source": [
    "### Feature Engineering again for whole test dataset"
   ]
  },
  {
   "cell_type": "code",
   "execution_count": 66,
   "metadata": {},
   "outputs": [],
   "source": [
    "z_value=z.drop(['ID'],axis=1)"
   ]
  },
  {
   "cell_type": "code",
   "execution_count": 67,
   "metadata": {},
   "outputs": [],
   "source": [
    "x=pd.read_csv('sample.csv')"
   ]
  },
  {
   "cell_type": "code",
   "execution_count": 68,
   "metadata": {},
   "outputs": [
    {
     "data": {
      "text/plain": [
       "Gender                     0\n",
       "Age                        0\n",
       "Region_Code                0\n",
       "Occupation                 0\n",
       "Channel_Code               0\n",
       "Vintage                    0\n",
       "Credit_Product         12522\n",
       "Avg_Account_Balance        0\n",
       "Is_Active                  0\n",
       "dtype: int64"
      ]
     },
     "execution_count": 68,
     "metadata": {},
     "output_type": "execute_result"
    }
   ],
   "source": [
    "z_value.isnull().sum()"
   ]
  },
  {
   "cell_type": "code",
   "execution_count": 69,
   "metadata": {},
   "outputs": [
    {
     "data": {
      "text/plain": [
       "Gender                 0\n",
       "Age                    0\n",
       "Region_Code            0\n",
       "Occupation             0\n",
       "Channel_Code           0\n",
       "Vintage                0\n",
       "Credit_Product         0\n",
       "Avg_Account_Balance    0\n",
       "Is_Active              0\n",
       "dtype: int64"
      ]
     },
     "execution_count": 69,
     "metadata": {},
     "output_type": "execute_result"
    }
   ],
   "source": [
    "z_value=z_value.apply(lambda x: x.fillna(x.value_counts().index[0]))\n",
    "z_value.isnull().sum()"
   ]
  },
  {
   "cell_type": "code",
   "execution_count": 70,
   "metadata": {},
   "outputs": [],
   "source": [
    "z_value= ohe_enc.transform(z_value)"
   ]
  },
  {
   "cell_type": "code",
   "execution_count": 71,
   "metadata": {},
   "outputs": [],
   "source": [
    "z_value=sc.transform(z_value)"
   ]
  },
  {
   "cell_type": "markdown",
   "metadata": {},
   "source": [
    "### Predicting values of test set"
   ]
  },
  {
   "cell_type": "code",
   "execution_count": 72,
   "metadata": {},
   "outputs": [],
   "source": [
    "z_value = select_feature.transform(z_value)"
   ]
  },
  {
   "cell_type": "code",
   "execution_count": 73,
   "metadata": {},
   "outputs": [],
   "source": [
    "t=lgb_model.predict_proba(z_value)[:,1]"
   ]
  },
  {
   "cell_type": "markdown",
   "metadata": {},
   "source": [
    "#### storing in dataframe and convert it to csv for submission"
   ]
  },
  {
   "cell_type": "code",
   "execution_count": 74,
   "metadata": {},
   "outputs": [],
   "source": [
    "d=pd.DataFrame({\"ID\":z_id,\"Is_Lead\":t})"
   ]
  },
  {
   "cell_type": "code",
   "execution_count": 75,
   "metadata": {},
   "outputs": [
    {
     "data": {
      "text/html": [
       "<div>\n",
       "<style scoped>\n",
       "    .dataframe tbody tr th:only-of-type {\n",
       "        vertical-align: middle;\n",
       "    }\n",
       "\n",
       "    .dataframe tbody tr th {\n",
       "        vertical-align: top;\n",
       "    }\n",
       "\n",
       "    .dataframe thead th {\n",
       "        text-align: right;\n",
       "    }\n",
       "</style>\n",
       "<table border=\"1\" class=\"dataframe\">\n",
       "  <thead>\n",
       "    <tr style=\"text-align: right;\">\n",
       "      <th></th>\n",
       "      <th>ID</th>\n",
       "      <th>Is_Lead</th>\n",
       "    </tr>\n",
       "  </thead>\n",
       "  <tbody>\n",
       "    <tr>\n",
       "      <th>0</th>\n",
       "      <td>VBENBARO</td>\n",
       "      <td>0.063664</td>\n",
       "    </tr>\n",
       "    <tr>\n",
       "      <th>1</th>\n",
       "      <td>CCMEWNKY</td>\n",
       "      <td>0.409171</td>\n",
       "    </tr>\n",
       "    <tr>\n",
       "      <th>2</th>\n",
       "      <td>VK3KGA9M</td>\n",
       "      <td>0.081680</td>\n",
       "    </tr>\n",
       "    <tr>\n",
       "      <th>3</th>\n",
       "      <td>TT8RPZVC</td>\n",
       "      <td>0.035836</td>\n",
       "    </tr>\n",
       "    <tr>\n",
       "      <th>4</th>\n",
       "      <td>SHQZEYTZ</td>\n",
       "      <td>0.029634</td>\n",
       "    </tr>\n",
       "  </tbody>\n",
       "</table>\n",
       "</div>"
      ],
      "text/plain": [
       "         ID   Is_Lead\n",
       "0  VBENBARO  0.063664\n",
       "1  CCMEWNKY  0.409171\n",
       "2  VK3KGA9M  0.081680\n",
       "3  TT8RPZVC  0.035836\n",
       "4  SHQZEYTZ  0.029634"
      ]
     },
     "execution_count": 75,
     "metadata": {},
     "output_type": "execute_result"
    }
   ],
   "source": [
    "d.head()"
   ]
  },
  {
   "cell_type": "code",
   "execution_count": 76,
   "metadata": {},
   "outputs": [],
   "source": [
    "d.to_csv('lakshulast.csv',index=False)"
   ]
  },
  {
   "cell_type": "markdown",
   "metadata": {},
   "source": [
    "#### After submission we get an  score of 77.9 Percent with public dataset."
   ]
  }
 ],
 "metadata": {
  "kernelspec": {
   "display_name": "Python 3",
   "language": "python",
   "name": "python3"
  },
  "language_info": {
   "codemirror_mode": {
    "name": "ipython",
    "version": 3
   },
   "file_extension": ".py",
   "mimetype": "text/x-python",
   "name": "python",
   "nbconvert_exporter": "python",
   "pygments_lexer": "ipython3",
   "version": "3.7.3"
  }
 },
 "nbformat": 4,
 "nbformat_minor": 2
}
